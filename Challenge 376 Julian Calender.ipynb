{
 "cells": [
  {
   "cell_type": "code",
   "execution_count": 22,
   "metadata": {},
   "outputs": [],
   "source": [
    "def leaps(year1, year2):\n",
    "    def convertstart(year):\n",
    "        if year % 4 == 0 and (year % 100 != 0 or year % 900 == 600 or year % 900 == 200):\n",
    "            startyear = year\n",
    "        elif (year + 1)% 4 == 0 and ((year+1) % 100 != 0 or (year+1) % 900 == 600 or (year+1) % 900 == 200):\n",
    "            startyear = year + 1\n",
    "        elif (year + 2)% 4 == 0 and ((year+2) % 100 != 0 or (year+2) % 900 == 600 or (year+2) % 900 == 200):\n",
    "            startyear = year + 2\n",
    "        elif (year + 3)% 4 == 0 and ((year+3) % 100 != 0 or (year+3) % 900 == 600 or (year+3) % 900 == 200):\n",
    "            startyear = year + 3\n",
    "        elif (year + 4)% 4 == 0 and ((year + 4) % 100 != 0 or (year + 4) % 900 == 600 or (year + 4) % 900 == 200):\n",
    "            startyear = year + 4\n",
    "        elif (year + 5)% 4 == 0 and ((year + 5) % 100 != 0 or (year + 5) % 900 == 600 or (year + 5) % 900 == 200):\n",
    "            startyear = year + 5\n",
    "        elif (year + 6)% 4 == 0 and ((year + 6) % 100 != 0 or (year + 6) % 900 == 600 or (year + 6) % 900 == 200):\n",
    "            startyear = year + 6\n",
    "        elif (year + 7)% 4 == 0 and ((year + 7) % 100 != 0 or (year + 7) % 900 == 600 or (year + 7) % 900 == 200):\n",
    "            startyear = year + 7\n",
    "        return startyear\n",
    "    def convertend(year):\n",
    "        if year % 4 == 0 and (year % 100 != 0 or year % 900 == 600 or year % 900 == 200):\n",
    "            endyear = year\n",
    "        elif (year - 1)% 4 == 0 and ((year-1) % 100 != 0 or (year-1) % 900 == 600 or (year-1) % 900 == 200):\n",
    "            endyear = year - 1\n",
    "        elif (year - 2)% 4 == 0 and ((year-2) % 100 != 0 or (year-2) % 900 == 600 or (year-2) % 900 == 200):\n",
    "            endyear = year - 2\n",
    "        elif (year - 3)% 4 == 0 and ((year-3) % 100 != 0 or (year-3) % 900 == 600 or (year-3) % 900 == 200):\n",
    "            endyear = year - 3\n",
    "        elif (year - 4)% 4 == 0 and ((year - 4) % 100 != 0 or (year - 4) % 900 == 600 or (year - 4) % 900 == 200):\n",
    "            endyear = year - 4\n",
    "        elif (year - 5)% 4 == 0 and ((year - 5) % 100 != 0 or (year - 5) % 900 == 600 or (year - 5) % 900 == 200):\n",
    "            endyear = year - 5\n",
    "        elif (year - 6)% 4 == 0 and ((year - 6) % 100 != 0 or (year - 6) % 900 == 600 or (year - 6) % 900 == 200):\n",
    "            endyear = year - 6\n",
    "        elif (year - 7)% 4 == 0 and ((year - 7) % 100 != 0 or (year - 7) % 900 == 600 or (year - 7) % 900 == 200):\n",
    "            endyear = year - 7\n",
    "        return endyear\n",
    "    startdate = convertstart(year1)\n",
    "    enddate = convertend(year2)\n",
    "    if startdate > enddate:\n",
    "        return 0\n",
    "    elif startdate == enddate:\n",
    "        if startdate == year2:\n",
    "            return 0\n",
    "        else:\n",
    "            return 1\n",
    "    else: \n",
    "        return (enddate-startdate)/4"
   ]
  },
  {
   "cell_type": "code",
   "execution_count": 43,
   "metadata": {},
   "outputs": [],
   "source": [
    "def leap(year1, year2):\n",
    "    key = [1,1,0,1,1,1,0,1,1]\n",
    "    def convertstart(year):\n",
    "        while year % 4 != 0:\n",
    "            year += 1\n",
    "        if year % 900 == 200 or year % 900 == 600:\n",
    "            return year\n",
    "        else: \n",
    "            return (year + 4)\n",
    "    def convertend(year):\n",
    "        while year % 4 != 0:\n",
    "            year -= 1\n",
    "        return year\n",
    "    startdate = convertstart(year1)\n",
    "    enddate = convertend(year2)\n",
    "    if startdate > enddate:\n",
    "        return 0\n",
    "    elif startdate == enddate:\n",
    "        if startdate == year2:\n",
    "            return 0\n",
    "        else:\n",
    "            return 1\n",
    "    else: \n",
    "        countB4off = (enddate-startdate)/4\n",
    "        startoffloc = (startdate%900)//100\n",
    "        endoffloc = (enddate%900)//100\n",
    "        numloops = countB4off*4//9\n",
    "        if startoffloc > endoffloc:\n",
    "            offset = sum(key[startoffloc:])+sum(key[:endoffloc])+numloops*sum(key)\n",
    "        elif startoffloc == endoffloc:\n",
    "            offset = numloops*sum(key)\n",
    "        else:\n",
    "            offset = sum(key[:startoffloc])+sum(key[endoffloc:])+numloops*sum(key)\n",
    "    return (countB4off - offset)"
   ]
  },
  {
   "cell_type": "code",
   "execution_count": 41,
   "metadata": {},
   "outputs": [
    {
     "data": {
      "text/plain": [
       "0"
      ]
     },
     "execution_count": 41,
     "metadata": {},
     "output_type": "execute_result"
    }
   ],
   "source": [
    "leap(2016, 2017)"
   ]
  },
  {
   "cell_type": "code",
   "execution_count": 23,
   "metadata": {},
   "outputs": [
    {
     "data": {
      "text/plain": [
       "0"
      ]
     },
     "execution_count": 23,
     "metadata": {},
     "output_type": "execute_result"
    }
   ],
   "source": [
    "leaps(2019, 2020)"
   ]
  },
  {
   "cell_type": "code",
   "execution_count": 24,
   "metadata": {},
   "outputs": [
    {
     "data": {
      "text/plain": [
       "0"
      ]
     },
     "execution_count": 24,
     "metadata": {},
     "output_type": "execute_result"
    }
   ],
   "source": [
    "leaps(1900, 1901)"
   ]
  },
  {
   "cell_type": "code",
   "execution_count": 26,
   "metadata": {},
   "outputs": [
    {
     "data": {
      "text/plain": [
       "1"
      ]
     },
     "execution_count": 26,
     "metadata": {},
     "output_type": "execute_result"
    }
   ],
   "source": [
    "leaps(2000, 2001)"
   ]
  },
  {
   "cell_type": "code",
   "execution_count": 27,
   "metadata": {},
   "outputs": [
    {
     "data": {
      "text/plain": [
       "0"
      ]
     },
     "execution_count": 27,
     "metadata": {},
     "output_type": "execute_result"
    }
   ],
   "source": [
    "leaps(2800, 2801)"
   ]
  },
  {
   "cell_type": "code",
   "execution_count": 28,
   "metadata": {},
   "outputs": [
    {
     "data": {
      "text/plain": [
       "0"
      ]
     },
     "execution_count": 28,
     "metadata": {},
     "output_type": "execute_result"
    }
   ],
   "source": [
    "leaps(123456, 123456)"
   ]
  },
  {
   "cell_type": "code",
   "execution_count": 44,
   "metadata": {},
   "outputs": [
    {
     "data": {
      "text/plain": [
       "-2342.0"
      ]
     },
     "execution_count": 44,
     "metadata": {},
     "output_type": "execute_result"
    }
   ],
   "source": [
    "leap(1234, 5678)"
   ]
  },
  {
   "cell_type": "code",
   "execution_count": null,
   "metadata": {},
   "outputs": [],
   "source": []
  }
 ],
 "metadata": {
  "kernelspec": {
   "display_name": "Python 3",
   "language": "python",
   "name": "python3"
  },
  "language_info": {
   "codemirror_mode": {
    "name": "ipython",
    "version": 3
   },
   "file_extension": ".py",
   "mimetype": "text/x-python",
   "name": "python",
   "nbconvert_exporter": "python",
   "pygments_lexer": "ipython3",
   "version": "3.7.3"
  }
 },
 "nbformat": 4,
 "nbformat_minor": 4
}
